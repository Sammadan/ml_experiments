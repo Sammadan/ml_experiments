{
 "cells": [
  {
   "cell_type": "code",
   "execution_count": 196,
   "metadata": {},
   "outputs": [],
   "source": [
    "import numpy as np\n",
    "import keras\n",
    "import pandas as pd\n",
    "import matplotlib.pyplot as plt\n",
    "import matplotlib"
   ]
  },
  {
   "cell_type": "code",
   "execution_count": 32,
   "metadata": {},
   "outputs": [],
   "source": [
    "num_classes=2\n",
    "b=[None]*3\n",
    "c=[None]*3"
   ]
  },
  {
   "cell_type": "code",
   "execution_count": null,
   "metadata": {},
   "outputs": [],
   "source": []
  },
  {
   "cell_type": "code",
   "execution_count": 180,
   "metadata": {},
   "outputs": [],
   "source": [
    "c=pd.DataFrame(columns=list(\"XYC\"))\n",
    "d=pd.DataFrame(columns=list(\"XYC\"))"
   ]
  },
  {
   "cell_type": "code",
   "execution_count": 181,
   "metadata": {},
   "outputs": [
    {
     "data": {
      "text/html": [
       "<div>\n",
       "<style scoped>\n",
       "    .dataframe tbody tr th:only-of-type {\n",
       "        vertical-align: middle;\n",
       "    }\n",
       "\n",
       "    .dataframe tbody tr th {\n",
       "        vertical-align: top;\n",
       "    }\n",
       "\n",
       "    .dataframe thead th {\n",
       "        text-align: right;\n",
       "    }\n",
       "</style>\n",
       "<table border=\"1\" class=\"dataframe\">\n",
       "  <thead>\n",
       "    <tr style=\"text-align: right;\">\n",
       "      <th></th>\n",
       "      <th>X</th>\n",
       "      <th>Y</th>\n",
       "      <th>C</th>\n",
       "    </tr>\n",
       "  </thead>\n",
       "  <tbody>\n",
       "  </tbody>\n",
       "</table>\n",
       "</div>"
      ],
      "text/plain": [
       "Empty DataFrame\n",
       "Columns: [X, Y, C]\n",
       "Index: []"
      ]
     },
     "execution_count": 181,
     "metadata": {},
     "output_type": "execute_result"
    }
   ],
   "source": [
    "d"
   ]
  },
  {
   "cell_type": "code",
   "execution_count": 182,
   "metadata": {},
   "outputs": [],
   "source": [
    "for i in range(100):\n",
    "    a=np.random.uniform(size=100)\n",
    "    b=np.random.uniform(size=100)\n",
    "    if a[i]<0.5 and b[i]<5:\n",
    "        d['X']=a[i]\n",
    "        d['Y']=b[i]\n",
    "        d['C']=0\n",
    "    else:\n",
    "        d['X']=a[i]\n",
    "        d['Y']=b[i]\n",
    "        d['C']=1\n",
    "    c=c.append(d,ignore_index=True)"
   ]
  },
  {
   "cell_type": "code",
   "execution_count": 187,
   "metadata": {},
   "outputs": [],
   "source": [
    "for i in range(100):\n",
    "    a=np.random.uniform(size=100)\n",
    "    b=np.random.uniform(size=100)\n",
    "    if a[i]<0.5 and b[i]<5:\n",
    "        c=c.append({'X':a[i],'Y':b[i],'C':'0'},ignore_index=True)\n",
    "    else:\n",
    "        c=c.append({'X':a[i],'Y':b[i],'C':'1'},ignore_index=True)"
   ]
  },
  {
   "cell_type": "code",
   "execution_count": 192,
   "metadata": {
    "scrolled": true
   },
   "outputs": [
    {
     "data": {
      "text/plain": [
       "0      0.657402\n",
       "1      0.643327\n",
       "2      0.872794\n",
       "3      0.491643\n",
       "4      0.244567\n",
       "5      0.196709\n",
       "6      0.101870\n",
       "7      0.881705\n",
       "8      0.198702\n",
       "9      0.280425\n",
       "10     0.803606\n",
       "11     0.329097\n",
       "12     0.868560\n",
       "13     0.154486\n",
       "14     0.000674\n",
       "15     0.298385\n",
       "16     0.530870\n",
       "17     0.690990\n",
       "18     0.552755\n",
       "19     0.414774\n",
       "20     0.823334\n",
       "21     0.858039\n",
       "22     0.332129\n",
       "23     0.095905\n",
       "24     0.018819\n",
       "25     0.442674\n",
       "26     0.614485\n",
       "27     0.804445\n",
       "28     0.833719\n",
       "29     0.229729\n",
       "         ...   \n",
       "71     0.178836\n",
       "72     0.750632\n",
       "73     0.092789\n",
       "74     0.439177\n",
       "75     0.626932\n",
       "76     0.303836\n",
       "77     0.996784\n",
       "78     0.488101\n",
       "79     0.440656\n",
       "80     0.269952\n",
       "81     0.518444\n",
       "82     0.713800\n",
       "83     0.515568\n",
       "84     0.341502\n",
       "85     0.305087\n",
       "86     0.785423\n",
       "87     0.938289\n",
       "88     0.956529\n",
       "89     0.950320\n",
       "90     0.772931\n",
       "91     0.799713\n",
       "92     0.803770\n",
       "93     0.105921\n",
       "94     0.443473\n",
       "95     0.366269\n",
       "96     0.825999\n",
       "97     0.815813\n",
       "98     0.221771\n",
       "99     0.724998\n",
       "100    0.273861\n",
       "Name: X, Length: 101, dtype: float64"
      ]
     },
     "execution_count": 192,
     "metadata": {},
     "output_type": "execute_result"
    }
   ],
   "source": [
    "c['X']"
   ]
  },
  {
   "cell_type": "code",
   "execution_count": 205,
   "metadata": {
    "scrolled": true
   },
   "outputs": [
    {
     "data": {
      "image/png": "[encoded data removed]",
      "text/plain": [
       "<matplotlib.figure.Figure at 0x7fa9340c8358>"
      ]
     },
     "metadata": {},
     "output_type": "display_data"
    }
   ],
   "source": [
    "plt.scatter(c['Y'],c['X'],c=c['C'],cmap=matplotlib.colors.ListedColormap(['green','blue']))\n",
    "colors=['green','blue']\n",
    "cb = plt.colorbar()\n",
    "loc = np.arange(0,int(max(c['C'])),int(2))\n",
    "cb.set_ticks(loc)\n",
    "cb.set_ticklabels(colors)"
   ]
  },
  {
   "cell_type": "code",
   "execution_count": 179,
   "metadata": {},
   "outputs": [
    {
     "data": {
      "text/html": [
       "<div>\n",
       "<style scoped>\n",
       "    .dataframe tbody tr th:only-of-type {\n",
       "        vertical-align: middle;\n",
       "    }\n",
       "\n",
       "    .dataframe tbody tr th {\n",
       "        vertical-align: top;\n",
       "    }\n",
       "\n",
       "    .dataframe thead th {\n",
       "        text-align: right;\n",
       "    }\n",
       "</style>\n",
       "<table border=\"1\" class=\"dataframe\">\n",
       "  <thead>\n",
       "    <tr style=\"text-align: right;\">\n",
       "      <th></th>\n",
       "      <th>X</th>\n",
       "      <th>Y</th>\n",
       "      <th>C</th>\n",
       "    </tr>\n",
       "  </thead>\n",
       "  <tbody>\n",
       "  </tbody>\n",
       "</table>\n",
       "</div>"
      ],
      "text/plain": [
       "Empty DataFrame\n",
       "Columns: [X, Y, C]\n",
       "Index: []"
      ]
     },
     "execution_count": 179,
     "metadata": {},
     "output_type": "execute_result"
    }
   ],
   "source": [
    "c"
   ]
  },
  {
   "cell_type": "code",
   "execution_count": null,
   "metadata": {},
   "outputs": [],
   "source": []
  }
 ],
 "metadata": {
  "kernelspec": {
   "display_name": "Python 3",
   "language": "python",
   "name": "python3"
  },
  "language_info": {
   "codemirror_mode": {
    "name": "ipython",
    "version": 3
   },
   "file_extension": ".py",
   "mimetype": "text/x-python",
   "name": "python",
   "nbconvert_exporter": "python",
   "pygments_lexer": "ipython3",
   "version": "3.6.4"
  }
 },
 "nbformat": 4,
 "nbformat_minor": 2
}
